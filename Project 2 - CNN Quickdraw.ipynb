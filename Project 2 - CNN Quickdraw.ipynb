{
 "cells": [
  {
   "cell_type": "markdown",
   "metadata": {},
   "source": [
    "# Loading images from the Quick Draw Dataset 5k examples\n",
    "\n",
    "\n",
    "get the data at https://console.cloud.google.com/storage/browser/quickdraw_dataset/full/numpy_bitmap?pli=1\n"
   ]
  },
  {
   "cell_type": "code",
   "execution_count": 1,
   "metadata": {},
   "outputs": [
    {
     "name": "stderr",
     "output_type": "stream",
     "text": [
      "Using TensorFlow backend.\n"
     ]
    }
   ],
   "source": [
    "%matplotlib inline\n",
    "import matplotlib.pyplot as plt\n",
    "\n",
    "import keras\n",
    "from keras.datasets import cifar10\n",
    "from keras.preprocessing.image import ImageDataGenerator\n",
    "from keras.models import Sequential, Model, load_model\n",
    "from keras.layers import Dense, Dropout, Activation, Flatten, Input\n",
    "from keras.layers import Conv2D, MaxPooling2D\n",
    "import keras.backend as K\n",
    "\n",
    "import tensorflow as tf\n",
    "\n",
    "import os\n",
    "import pickle\n",
    "import numpy as np"
   ]
  },
  {
   "cell_type": "code",
   "execution_count": 2,
   "metadata": {},
   "outputs": [
    {
     "name": "stdout",
     "output_type": "stream",
     "text": [
      "2.0.8\n",
      "1.3.0\n"
     ]
    },
    {
     "data": {
      "text/plain": [
       "[name: \"/cpu:0\"\n",
       " device_type: \"CPU\"\n",
       " memory_limit: 268435456\n",
       " locality {\n",
       " }\n",
       " incarnation: 1333381019897106806, name: \"/gpu:0\"\n",
       " device_type: \"GPU\"\n",
       " memory_limit: 639483904\n",
       " locality {\n",
       "   bus_id: 1\n",
       " }\n",
       " incarnation: 9820858756428368746\n",
       " physical_device_desc: \"device: 0, name: GeForce GT 640, pci bus id: 0000:01:00.0\"]"
      ]
     },
     "execution_count": 2,
     "metadata": {},
     "output_type": "execute_result"
    }
   ],
   "source": [
    "print(keras.__version__)\n",
    "print(tf.__version__)\n",
    "\n",
    "from tensorflow.python.client import device_lib\n",
    "device_lib.list_local_devices()"
   ]
  },
  {
   "cell_type": "code",
   "execution_count": 3,
   "metadata": {},
   "outputs": [
    {
     "name": "stdout",
     "output_type": "stream",
     "text": [
      "[[ 22.  28.]\n",
      " [ 49.  64.]]\n"
     ]
    }
   ],
   "source": [
    "# Creates a graph.\n",
    "a = tf.constant([1.0, 2.0, 3.0, 4.0, 5.0, 6.0], shape=[2, 3], name='a')\n",
    "b = tf.constant([1.0, 2.0, 3.0, 4.0, 5.0, 6.0], shape=[3, 2], name='b')\n",
    "c = tf.matmul(a, b)\n",
    "# Creates a session with log_device_placement set to True.\n",
    "sess = tf.Session(config=tf.ConfigProto(log_device_placement=True))\n",
    "# Runs the op.\n",
    "print(sess.run(c))"
   ]
  },
  {
   "cell_type": "code",
   "execution_count": 4,
   "metadata": {
    "collapsed": true
   },
   "outputs": [],
   "source": [
    "MODEL_NAME = 'quickdraw-40classes-5000samples.model'\n",
    "\n",
    "num_examples_per_class = 5000\n",
    "num_examples_per_class_train = 4500\n",
    "num_examples_per_class_test = 500\n",
    "\n",
    "classes = ['airplane','alarm clock','ambulance','angel','ant','anvil','apple','axe',\n",
    "                  'banana','bandage','barn','baseball bat','baseball','basket',\n",
    "                  'basketball','bathtub','beach','bear','beard','bed','bee','belt',\n",
    "                  'bicycle','binoculars','birthday cake','blueberry',\n",
    "                  'book','boomerang','bottlecap','bowtie','bracelet','brain',\n",
    "                  'bread','broom','bulldozer','bus','bush','butterfly','cactus','cake']"
   ]
  },
  {
   "cell_type": "code",
   "execution_count": 5,
   "metadata": {},
   "outputs": [
    {
     "data": {
      "text/plain": [
       "40"
      ]
     },
     "execution_count": 5,
     "metadata": {},
     "output_type": "execute_result"
    }
   ],
   "source": [
    "len(classes)"
   ]
  },
  {
   "cell_type": "markdown",
   "metadata": {},
   "source": [
    "## Load the image data from scratch\n",
    "\n",
    "Only use if you are downloading the raw data and doing it yourself"
   ]
  },
  {
   "cell_type": "code",
   "execution_count": 130,
   "metadata": {
    "scrolled": false
   },
   "outputs": [
    {
     "data": {
      "text/plain": [
       "(200000, 784)"
      ]
     },
     "execution_count": 130,
     "metadata": {},
     "output_type": "execute_result"
    }
   ],
   "source": [
    "#This cell is only if you are loading the data from scratch\n",
    "# get the data \n",
    "quickdraws = [np.load(\"./data/x_data_40_classes_2k.npy\".format(qdraw))[:num_examples_per_class] for qdraw in classes]\n",
    "\n",
    "# Concat the arrays together\n",
    "x_data = np.concatenate(quickdraws,axis=0)\n",
    "\n",
    "x_data.shape"
   ]
  },
  {
   "cell_type": "code",
   "execution_count": 6,
   "metadata": {
    "collapsed": true
   },
   "outputs": [],
   "source": [
    "np.save('x_data_40_classes_5k.npy',x_data)"
   ]
  },
  {
   "cell_type": "markdown",
   "metadata": {},
   "source": [
    "## Use this cell to load the premade datasets that I made"
   ]
  },
  {
   "cell_type": "code",
   "execution_count": 18,
   "metadata": {
    "collapsed": true
   },
   "outputs": [],
   "source": [
    "x_data = np.load(\"./data/x_data_40_classes_5k.npy\")"
   ]
  },
  {
   "cell_type": "code",
   "execution_count": 19,
   "metadata": {},
   "outputs": [
    {
     "data": {
      "text/plain": [
       "(200000, 784)"
      ]
     },
     "execution_count": 19,
     "metadata": {},
     "output_type": "execute_result"
    }
   ],
   "source": [
    "x_data.shape"
   ]
  },
  {
   "cell_type": "code",
   "execution_count": 8,
   "metadata": {},
   "outputs": [
    {
     "name": "stdout",
     "output_type": "stream",
     "text": [
      "(180000, 784)\n",
      "(20000, 784)\n"
     ]
    }
   ],
   "source": [
    "x_data_train = x_data[:num_examples_per_class_train*40]\n",
    "print(x_data_train.shape)\n",
    "\n",
    "x_data_test = x_data[len(x_data_train):num_examples_per_class*40]\n",
    "print(x_data_test.shape)\n",
    "\n",
    "x_data = x_data_train"
   ]
  },
  {
   "cell_type": "code",
   "execution_count": 20,
   "metadata": {},
   "outputs": [
    {
     "name": "stdout",
     "output_type": "stream",
     "text": [
      "(160000, 784)\n",
      "(40000, 784)\n"
     ]
    }
   ],
   "source": [
    "x_img_train = []\n",
    "x_img_test = []\n",
    "for i in range(0, 200000, 5000):\n",
    "    if len(x_img_train) == 0:\n",
    "        x_img_train = x_data[i:i+4000]\n",
    "        x_img_test = x_data[i+4000:i+5000]\n",
    "    else:\n",
    "        x_img_train = np.append(x_img_train, x_data[i:i+4000], axis=0)\n",
    "        x_img_test = np.append(x_img_test, x_data[i+4000:i+5000], axis=0)\n",
    "\n",
    "print(x_img_train.shape)\n",
    "print(x_img_test.shape)\n"
   ]
  },
  {
   "cell_type": "markdown",
   "metadata": {},
   "source": [
    "## Lets make some labels for our data"
   ]
  },
  {
   "cell_type": "code",
   "execution_count": 21,
   "metadata": {
    "scrolled": true
   },
   "outputs": [
    {
     "name": "stdout",
     "output_type": "stream",
     "text": [
      "[array([0, 0, 0, ..., 0, 0, 0]), array([1, 1, 1, ..., 1, 1, 1]), array([2, 2, 2, ..., 2, 2, 2]), array([3, 3, 3, ..., 3, 3, 3]), array([4, 4, 4, ..., 4, 4, 4]), array([5, 5, 5, ..., 5, 5, 5]), array([6, 6, 6, ..., 6, 6, 6]), array([7, 7, 7, ..., 7, 7, 7]), array([8, 8, 8, ..., 8, 8, 8]), array([9, 9, 9, ..., 9, 9, 9]), array([10, 10, 10, ..., 10, 10, 10]), array([11, 11, 11, ..., 11, 11, 11]), array([12, 12, 12, ..., 12, 12, 12]), array([13, 13, 13, ..., 13, 13, 13]), array([14, 14, 14, ..., 14, 14, 14]), array([15, 15, 15, ..., 15, 15, 15]), array([16, 16, 16, ..., 16, 16, 16]), array([17, 17, 17, ..., 17, 17, 17]), array([18, 18, 18, ..., 18, 18, 18]), array([19, 19, 19, ..., 19, 19, 19]), array([20, 20, 20, ..., 20, 20, 20]), array([21, 21, 21, ..., 21, 21, 21]), array([22, 22, 22, ..., 22, 22, 22]), array([23, 23, 23, ..., 23, 23, 23]), array([24, 24, 24, ..., 24, 24, 24]), array([25, 25, 25, ..., 25, 25, 25]), array([26, 26, 26, ..., 26, 26, 26]), array([27, 27, 27, ..., 27, 27, 27]), array([28, 28, 28, ..., 28, 28, 28]), array([29, 29, 29, ..., 29, 29, 29]), array([30, 30, 30, ..., 30, 30, 30]), array([31, 31, 31, ..., 31, 31, 31]), array([32, 32, 32, ..., 32, 32, 32]), array([33, 33, 33, ..., 33, 33, 33]), array([34, 34, 34, ..., 34, 34, 34]), array([35, 35, 35, ..., 35, 35, 35]), array([36, 36, 36, ..., 36, 36, 36]), array([37, 37, 37, ..., 37, 37, 37]), array([38, 38, 38, ..., 38, 38, 38]), array([39, 39, 39, ..., 39, 39, 39])]\n",
      "[ 0  0  0 ..., 39 39 39]\n"
     ]
    },
    {
     "data": {
      "text/plain": [
       "(160000,)"
      ]
     },
     "execution_count": 21,
     "metadata": {},
     "output_type": "execute_result"
    }
   ],
   "source": [
    "labels = [np.full((4000,), classes.index(qdraw)) for qdraw in classes]\n",
    "print(labels)\n",
    "## Concat the arrays together\n",
    "y_data = np.concatenate(labels,axis=0)\n",
    "y_label_train = y_data\n",
    "\n",
    "print((y_label_train))\n",
    "y_label_train.shape"
   ]
  },
  {
   "cell_type": "code",
   "execution_count": 22,
   "metadata": {},
   "outputs": [
    {
     "name": "stdout",
     "output_type": "stream",
     "text": [
      "[ 0  0  0 ..., 39 39 39]\n"
     ]
    },
    {
     "data": {
      "text/plain": [
       "(40000,)"
      ]
     },
     "execution_count": 22,
     "metadata": {},
     "output_type": "execute_result"
    }
   ],
   "source": [
    "labels_test = [np.full((1000,), classes.index(qdraw)) for qdraw in classes]\n",
    "\n",
    "## Concat the arrays together\n",
    "y_label_test = np.concatenate(labels_test,axis=0)\n",
    "\n",
    "print((y_label_test))\n",
    "y_label_test.shape"
   ]
  },
  {
   "cell_type": "markdown",
   "metadata": {},
   "source": [
    "## lets look at the Images "
   ]
  },
  {
   "cell_type": "code",
   "execution_count": 23,
   "metadata": {
    "collapsed": true
   },
   "outputs": [],
   "source": [
    "def show_object(obj):\n",
    "    # Reshape 784 array into 28x28 image\n",
    "    image = obj.reshape([28,28])\n",
    "    fig, axes = plt.subplots(1, )\n",
    "    fig.subplots_adjust(hspace=0.5, wspace=0.5)\n",
    "    plt.imshow(image, cmap='gray_r')\n",
    "    plt.show()"
   ]
  },
  {
   "cell_type": "code",
   "execution_count": 24,
   "metadata": {},
   "outputs": [
    {
     "data": {
      "image/png": "[encoded data removed]",
      "text/plain": [
       "<matplotlib.figure.Figure at 0x29239eee668>"
      ]
     },
     "metadata": {},
     "output_type": "display_data"
    },
    {
     "name": "stdout",
     "output_type": "stream",
     "text": [
      "airplane\n"
     ]
    }
   ],
   "source": [
    "show_object(x_data[4996])\n",
    "print(classes[y_data[8]])"
   ]
  },
  {
   "cell_type": "code",
   "execution_count": 25,
   "metadata": {},
   "outputs": [
    {
     "data": {
      "image/png": "[encoded data removed]",
      "text/plain": [
       "<matplotlib.figure.Figure at 0x2923639b860>"
      ]
     },
     "metadata": {},
     "output_type": "display_data"
    },
    {
     "name": "stdout",
     "output_type": "stream",
     "text": [
      "alarm clock\n"
     ]
    }
   ],
   "source": [
    "show_object(x_img_train[4000])\n",
    "print(classes[y_label_train[4000]])"
   ]
  },
  {
   "cell_type": "code",
   "execution_count": 26,
   "metadata": {},
   "outputs": [
    {
     "name": "stdout",
     "output_type": "stream",
     "text": [
      "(160000, 784)\n",
      "(160000,)\n",
      "(40000, 784)\n",
      "(40000,)\n"
     ]
    }
   ],
   "source": [
    "print(x_img_train.shape)\n",
    "print(y_label_train.shape)\n",
    "\n",
    "print(x_img_test.shape)\n",
    "print(y_label_test.shape)"
   ]
  },
  {
   "cell_type": "code",
   "execution_count": 27,
   "metadata": {
    "collapsed": true
   },
   "outputs": [],
   "source": [
    "#shuffling function\n",
    "def unison_shuffled_copies(a, b):\n",
    "    assert len(a) == len(b)\n",
    "    p = np.random.permutation(len(a))\n",
    "    return a[p], b[p]"
   ]
  },
  {
   "cell_type": "code",
   "execution_count": 28,
   "metadata": {},
   "outputs": [
    {
     "name": "stdout",
     "output_type": "stream",
     "text": [
      "(160000, 784)\n",
      "(160000,)\n"
     ]
    }
   ],
   "source": [
    "print(x_img_train.shape)\n",
    "print(y_label_train.shape)\n",
    "x_img_train,y_label_train = unison_shuffled_copies(x_img_train,y_label_train)"
   ]
  },
  {
   "cell_type": "code",
   "execution_count": 29,
   "metadata": {},
   "outputs": [
    {
     "data": {
      "image/png": "[encoded data removed]",
      "text/plain": [
       "<matplotlib.figure.Figure at 0x292363f76d8>"
      ]
     },
     "metadata": {},
     "output_type": "display_data"
    },
    {
     "name": "stdout",
     "output_type": "stream",
     "text": [
      "axe\n"
     ]
    }
   ],
   "source": [
    "show_object(x_img_train[4000])\n",
    "print(classes[y_label_train[4000]])"
   ]
  },
  {
   "cell_type": "code",
   "execution_count": 30,
   "metadata": {},
   "outputs": [
    {
     "data": {
      "image/png": "[encoded data removed]",
      "text/plain": [
       "<matplotlib.figure.Figure at 0x292363df470>"
      ]
     },
     "metadata": {},
     "output_type": "display_data"
    }
   ],
   "source": [
    "show_object(x_img_train[0])"
   ]
  },
  {
   "cell_type": "code",
   "execution_count": 31,
   "metadata": {},
   "outputs": [
    {
     "name": "stdout",
     "output_type": "stream",
     "text": [
      "[ 0.  0.  0.  0.  0.  0.  0.  0.  0.  0.  0.  0.  0.  0.  0.  0.  0.  0.\n",
      "  0.  0.  0.  0.  0.  0.  0.  0.  0.  0.  0.  0.  0.  0.  0.  0.  0.  0.\n",
      "  0.  0.  0.  1.]\n",
      "(160000, 40)\n"
     ]
    }
   ],
   "source": [
    "# Training Parameters for basic MNIST\n",
    "#learning_rate = 0.1 \n",
    "training_epochs = 2\n",
    "batch_size = 100\n",
    "train_samples = 60000\n",
    "train_validation = 10000\n",
    "\n",
    "num_classes = 40\n",
    "\n",
    "# convert class vectors to binary class matrices\n",
    "y_label_train = keras.utils.to_categorical(y_label_train, num_classes)\n",
    "print(y_label_train[0])\n",
    "print(y_label_train.shape)\n",
    "y_label_test = keras.utils.to_categorical(y_label_test, num_classes)\n"
   ]
  },
  {
   "cell_type": "code",
   "execution_count": 32,
   "metadata": {
    "collapsed": true
   },
   "outputs": [],
   "source": [
    "img_rows, img_cols = 28, 28\n",
    "\n",
    "# reshape the data into format (width, Height, channels)\n",
    "x_img_train = x_img_train.reshape(x_img_train.shape[0], img_rows, img_cols, 1)\n",
    "x_img_test = x_img_test.reshape(x_img_test.shape[0], img_rows, img_cols, 1)\n",
    "input_shape = (img_rows, img_cols, 1)"
   ]
  },
  {
   "cell_type": "code",
   "execution_count": 33,
   "metadata": {
    "collapsed": true
   },
   "outputs": [],
   "source": [
    "Inp=Input(shape=input_shape)\n",
    "x = Conv2D(32, kernel_size=(3, 3), activation='relu',name = 'Conv_01')(Inp)\n",
    "x = Conv2D(64, (3, 3), activation='relu',name = 'Conv_02')(x)\n",
    "x = MaxPooling2D(pool_size=(2, 2),name = 'MaxPool_01')(x)\n",
    "x = Dropout(0.25,name = 'Dropout_01')(x)\n",
    "x = Flatten(name = 'Flatten_01')(x)\n",
    "x = Dense(128, activation='relu',name = 'Dense_01')(x)\n",
    "#x = BatchNormalization()(x)\n",
    "x = Dropout(0.5,name = 'Dropout_02')(x)\n",
    "output = Dense(num_classes, activation='softmax',name = 'Dense_02')(x)"
   ]
  },
  {
   "cell_type": "code",
   "execution_count": 34,
   "metadata": {},
   "outputs": [
    {
     "name": "stdout",
     "output_type": "stream",
     "text": [
      "Model loaded.\n"
     ]
    }
   ],
   "source": [
    "import os\n",
    "\n",
    "if os.path.exists('{}'.format(MODEL_NAME)):\n",
    "    model = load_model(MODEL_NAME)\n",
    "    print(\"Model loaded.\")\n",
    "else:\n",
    "    model = Model(Inp,output)\n",
    "    print(\"Model created.\")"
   ]
  },
  {
   "cell_type": "code",
   "execution_count": 35,
   "metadata": {},
   "outputs": [
    {
     "name": "stdout",
     "output_type": "stream",
     "text": [
      "_________________________________________________________________\n",
      "Layer (type)                 Output Shape              Param #   \n",
      "=================================================================\n",
      "input_1 (InputLayer)         (None, 28, 28, 1)         0         \n",
      "_________________________________________________________________\n",
      "Conv_01 (Conv2D)             (None, 26, 26, 32)        320       \n",
      "_________________________________________________________________\n",
      "Conv_02 (Conv2D)             (None, 24, 24, 64)        18496     \n",
      "_________________________________________________________________\n",
      "MaxPool_01 (MaxPooling2D)    (None, 12, 12, 64)        0         \n",
      "_________________________________________________________________\n",
      "Dropout_01 (Dropout)         (None, 12, 12, 64)        0         \n",
      "_________________________________________________________________\n",
      "Flatten_01 (Flatten)         (None, 9216)              0         \n",
      "_________________________________________________________________\n",
      "Dense_01 (Dense)             (None, 128)               1179776   \n",
      "_________________________________________________________________\n",
      "Dropout_02 (Dropout)         (None, 128)               0         \n",
      "_________________________________________________________________\n",
      "Dense_02 (Dense)             (None, 40)                5160      \n",
      "=================================================================\n",
      "Total params: 1,203,752\n",
      "Trainable params: 1,203,752\n",
      "Non-trainable params: 0\n",
      "_________________________________________________________________\n"
     ]
    }
   ],
   "source": [
    "model.summary()"
   ]
  },
  {
   "cell_type": "code",
   "execution_count": 36,
   "metadata": {
    "collapsed": true
   },
   "outputs": [],
   "source": [
    "model.compile(loss=keras.losses.categorical_crossentropy,\n",
    "              optimizer=keras.optimizers.Adadelta(),\n",
    "              metrics=['accuracy'])"
   ]
  },
  {
   "cell_type": "code",
   "execution_count": 49,
   "metadata": {},
   "outputs": [
    {
     "name": "stdout",
     "output_type": "stream",
     "text": [
      "Train on 160000 samples, validate on 40000 samples\n",
      "Epoch 1/2\n",
      "160000/160000 [==============================] - 717s - loss: 1.0686 - acc: 0.6998 - val_loss: 0.8839 - val_acc: 0.7563\n",
      "Epoch 2/2\n",
      "160000/160000 [==============================] - 718s - loss: 1.0252 - acc: 0.7106 - val_loss: 0.8714 - val_acc: 0.7622\n"
     ]
    }
   ],
   "source": [
    "hist = model.fit(x_img_train, y_label_train,\n",
    "          batch_size=batch_size,\n",
    "          epochs=training_epochs,\n",
    "          verbose=1,\n",
    "          callbacks = None,\n",
    "          validation_data=(x_img_test, y_label_test))"
   ]
  },
  {
   "cell_type": "code",
   "execution_count": 38,
   "metadata": {
    "collapsed": true
   },
   "outputs": [],
   "source": [
    "model.save(MODEL_NAME)"
   ]
  },
  {
   "cell_type": "code",
   "execution_count": 39,
   "metadata": {
    "collapsed": true
   },
   "outputs": [],
   "source": [
    "def plot_train(hist):\n",
    "    h = hist.history\n",
    "    if 'acc' in h:\n",
    "        meas='acc'\n",
    "        loc='lower right'\n",
    "    else:\n",
    "        meas='loss'\n",
    "        loc='upper right'\n",
    "    plt.plot(hist.history[meas])\n",
    "    plt.plot(hist.history['val_'+meas])\n",
    "    plt.title('model '+meas)\n",
    "    plt.ylabel(meas)\n",
    "    plt.xlabel('epoch')\n",
    "    plt.legend(['train', 'validation'], loc=loc)\n",
    "    "
   ]
  },
  {
   "cell_type": "code",
   "execution_count": 40,
   "metadata": {},
   "outputs": [
    {
     "data": {
      "image/png": "[encoded data removed]",
      "text/plain": [
       "<matplotlib.figure.Figure at 0x29256b1a048>"
      ]
     },
     "metadata": {},
     "output_type": "display_data"
    }
   ],
   "source": [
    "plot_train(hist)"
   ]
  },
  {
   "cell_type": "code",
   "execution_count": 45,
   "metadata": {},
   "outputs": [],
   "source": [
    "preds = model.predict([x_img_test[:250]])\n",
    "# print(preds)"
   ]
  },
  {
   "cell_type": "code",
   "execution_count": 48,
   "metadata": {},
   "outputs": [
    {
     "data": {
      "image/png": "[encoded data removed]",
      "text/plain": [
       "<matplotlib.figure.Figure at 0x292583e2198>"
      ]
     },
     "metadata": {},
     "output_type": "display_data"
    },
    {
     "name": "stdout",
     "output_type": "stream",
     "text": [
      "airplane\n"
     ]
    }
   ],
   "source": [
    "idx= 200\n",
    "show_object(x_img_test[idx])\n",
    "print(classes[np.argmax(preds[idx])])\n"
   ]
  },
  {
   "cell_type": "code",
   "execution_count": 56,
   "metadata": {},
   "outputs": [
    {
     "data": {
      "text/plain": [
       "'beach'"
      ]
     },
     "execution_count": 56,
     "metadata": {},
     "output_type": "execute_result"
    }
   ],
   "source": [
    "classes[16]"
   ]
  },
  {
   "cell_type": "code",
   "execution_count": 58,
   "metadata": {},
   "outputs": [
    {
     "data": {
      "text/plain": [
       "14"
      ]
     },
     "execution_count": 58,
     "metadata": {},
     "output_type": "execute_result"
    }
   ],
   "source": [
    "np.argmax(y_train[0])"
   ]
  },
  {
   "cell_type": "code",
   "execution_count": null,
   "metadata": {
    "collapsed": true
   },
   "outputs": [],
   "source": []
  }
 ],
 "metadata": {
  "kernelspec": {
   "display_name": "Python 3",
   "language": "python",
   "name": "python3"
  },
  "language_info": {
   "codemirror_mode": {
    "name": "ipython",
    "version": 3
   },
   "file_extension": ".py",
   "mimetype": "text/x-python",
   "name": "python",
   "nbconvert_exporter": "python",
   "pygments_lexer": "ipython3",
   "version": "3.6.1"
  }
 },
 "nbformat": 4,
 "nbformat_minor": 2
}
